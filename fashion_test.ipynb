{
  "nbformat": 4,
  "nbformat_minor": 0,
  "metadata": {
    "colab": {
      "name": "fashion_test.ipynb",
      "version": "0.3.2",
      "provenance": [],
      "collapsed_sections": [],
      "include_colab_link": true
    },
    "kernelspec": {
      "name": "python3",
      "display_name": "Python 3"
    }
  },
  "cells": [
    {
      "cell_type": "markdown",
      "metadata": {
        "id": "view-in-github",
        "colab_type": "text"
      },
      "source": [
        "<a href=\"https://colab.research.google.com/github/towfeeqf/DL-practice-problems/blob/master/fashion_test.ipynb\" target=\"_parent\"><img src=\"https://colab.research.google.com/assets/colab-badge.svg\" alt=\"Open In Colab\"/></a>"
      ]
    },
    {
      "cell_type": "code",
      "metadata": {
        "id": "KQUklKOC8h-W",
        "colab_type": "code",
        "colab": {}
      },
      "source": [
        "import numpy as np\n",
        "import matplotlib.pyplot as plt\n",
        "import tensorflow as tf\n",
        "from tensorflow import keras\n",
        "\n",
        "%matplotlib inline"
      ],
      "execution_count": 0,
      "outputs": []
    },
    {
      "cell_type": "code",
      "metadata": {
        "id": "tHnBns6J8ygd",
        "colab_type": "code",
        "outputId": "6dc7fb5b-55d8-4b81-e384-5ffeed0a9037",
        "colab": {
          "base_uri": "https://localhost:8080/",
          "height": 35
        }
      },
      "source": [
        "print(tf.__version__)"
      ],
      "execution_count": 0,
      "outputs": [
        {
          "output_type": "stream",
          "text": [
            "1.14.0\n"
          ],
          "name": "stdout"
        }
      ]
    },
    {
      "cell_type": "code",
      "metadata": {
        "id": "G-PAgN8E871-",
        "colab_type": "code",
        "outputId": "717b622f-ec76-428f-be43-8c637d3f0986",
        "colab": {
          "base_uri": "https://localhost:8080/",
          "height": 156
        }
      },
      "source": [
        "# load the fashion-mnist re-shuffled train data and test data\n",
        "(x_train,y_train),(x_test,y_test)=keras.datasets.fashion_mnist.load_data()\n"
      ],
      "execution_count": 0,
      "outputs": [
        {
          "output_type": "stream",
          "text": [
            "Downloading data from https://storage.googleapis.com/tensorflow/tf-keras-datasets/train-labels-idx1-ubyte.gz\n",
            "32768/29515 [=================================] - 0s 0us/step\n",
            "Downloading data from https://storage.googleapis.com/tensorflow/tf-keras-datasets/train-images-idx3-ubyte.gz\n",
            "26427392/26421880 [==============================] - 0s 0us/step\n",
            "Downloading data from https://storage.googleapis.com/tensorflow/tf-keras-datasets/t10k-labels-idx1-ubyte.gz\n",
            "8192/5148 [===============================================] - 0s 0us/step\n",
            "Downloading data from https://storage.googleapis.com/tensorflow/tf-keras-datasets/t10k-images-idx3-ubyte.gz\n",
            "4423680/4422102 [==============================] - 0s 0us/step\n"
          ],
          "name": "stdout"
        }
      ]
    },
    {
      "cell_type": "code",
      "metadata": {
        "id": "ho9mUVnW9o-F",
        "colab_type": "code",
        "outputId": "d4459bac-9385-4395-a587-686be5296a59",
        "colab": {
          "base_uri": "https://localhost:8080/",
          "height": 35
        }
      },
      "source": [
        "print(\"x_train shape: \",x_train.shape,\"y_train shape: \",y_train.shape)\n"
      ],
      "execution_count": 0,
      "outputs": [
        {
          "output_type": "stream",
          "text": [
            "x_train shape:  (60000, 28, 28) y_train shape:  (60000,)\n"
          ],
          "name": "stdout"
        }
      ]
    },
    {
      "cell_type": "code",
      "metadata": {
        "id": "915wbeFk-aZo",
        "colab_type": "code",
        "outputId": "61406547-92bd-43ab-c99b-636390218905",
        "colab": {
          "base_uri": "https://localhost:8080/",
          "height": 52
        }
      },
      "source": [
        "#visualize the \n",
        "# Print training set shape - note there are 60,000 training data of image size of 28x28, 60,000 train labels)\n",
        "\n",
        "# Print the number of training and test datasets\n",
        "\n",
        "print(x_train.shape[0],'train set')\n",
        "print(x_test.shape[0],'test set')\n",
        "\n",
        "#print(x_train.shape[0],'train set')\n",
        "#print(x_test.shape[0],'test set')"
      ],
      "execution_count": 0,
      "outputs": [
        {
          "output_type": "stream",
          "text": [
            "60000 train set\n",
            "10000 test set\n"
          ],
          "name": "stdout"
        }
      ]
    },
    {
      "cell_type": "code",
      "metadata": {
        "id": "tS9RVY34BGiY",
        "colab_type": "code",
        "colab": {}
      },
      "source": [
        "#Define the labels\n",
        "fashion_mnist_labels = [\"T-shirt/top\",  # index 0\n",
        "                        \"Trouser\",      # index 1\n",
        "                        \"Pullover\",     # index 2 \n",
        "                        \"Dress\",        # index 3 \n",
        "                        \"Coat\",         # index 4\n",
        "                        \"Sandal\",       # index 5\n",
        "                        \"Shirt\",        # index 6 \n",
        "                        \"Sneaker\",      # index 7 \n",
        "                        \"Bag\",          # index 8 \n",
        "                        \"Ankle boot\"]   # index 9\n",
        "\n",
        "#fashion_mnist_labels=[ [\"T-shirt/top\",\"Trouser\",\"Pullover\", \"Dress\", \"Coat\", \"Sandal\", \"Shirt\", \"Sneaker\", \"Bag\", \"Ankle boot\"] ]"
      ],
      "execution_count": 0,
      "outputs": []
    },
    {
      "cell_type": "code",
      "metadata": {
        "id": "yIiJ6k50Bm3u",
        "colab_type": "code",
        "outputId": "2da2bf07-7345-499e-c7d7-93b3fff68a2a",
        "colab": {
          "base_uri": "https://localhost:8080/",
          "height": 35
        }
      },
      "source": [
        "fashion_mnist_labels[0]"
      ],
      "execution_count": 0,
      "outputs": [
        {
          "output_type": "execute_result",
          "data": {
            "text/plain": [
              "'T-shirt/top'"
            ]
          },
          "metadata": {
            "tags": []
          },
          "execution_count": 8
        }
      ]
    },
    {
      "cell_type": "code",
      "metadata": {
        "id": "rCnUDwBkzQOg",
        "colab_type": "code",
        "outputId": "87df94b9-1026-4b6d-ebd9-c6bb2fe13db0",
        "colab": {
          "base_uri": "https://localhost:8080/",
          "height": 52
        }
      },
      "source": [
        "print(len(x_train),len(y_train))\n",
        "print()"
      ],
      "execution_count": 0,
      "outputs": [
        {
          "output_type": "stream",
          "text": [
            "60000 60000\n",
            "\n"
          ],
          "name": "stdout"
        }
      ]
    },
    {
      "cell_type": "code",
      "metadata": {
        "id": "qBmYfpggzWSI",
        "colab_type": "code",
        "outputId": "6e98fbc9-8a5e-4a4e-fd74-068cf7bbbf51",
        "colab": {
          "base_uri": "https://localhost:8080/",
          "height": 487
        }
      },
      "source": [
        "plt.figure(figsize=(10,8))\n",
        "plt.imshow(x_train[0])\n",
        "plt.colorbar()\n",
        "plt.gca().grid(False)\n",
        "plt.show()"
      ],
      "execution_count": 0,
      "outputs": [
        {
          "output_type": "display_data",
          "data": {
            "image/png": "[encoded data removed]",
            "text/plain": [
              "<Figure size 720x576 with 2 Axes>"
            ]
          },
          "metadata": {
            "tags": []
          }
        }
      ]
    },
    {
      "cell_type": "code",
      "metadata": {
        "id": "u8hGaTOD6jAh",
        "colab_type": "code",
        "outputId": "193010c4-fda3-4deb-bb79-821cb748aefb",
        "colab": {
          "base_uri": "https://localhost:8080/",
          "height": 269
        }
      },
      "source": [
        "plt.imshow(x_train[5])\n",
        "plt.show()"
      ],
      "execution_count": 0,
      "outputs": [
        {
          "output_type": "display_data",
          "data": {
            "image/png": "[encoded data removed]",
            "text/plain": [
              "<Figure size 432x288 with 1 Axes>"
            ]
          },
          "metadata": {
            "tags": []
          }
        }
      ]
    },
    {
      "cell_type": "code",
      "metadata": {
        "id": "mHfZGVne7Szv",
        "colab_type": "code",
        "outputId": "e3540cd1-009d-4fa6-feea-5f7ea3084d01",
        "colab": {
          "base_uri": "https://localhost:8080/",
          "height": 69
        }
      },
      "source": [
        "print(y_train)   # y_train is labels numbered between 0 and 9\n",
        "print(y_train[5])\n",
        "print(y_train.shape)\n"
      ],
      "execution_count": 0,
      "outputs": [
        {
          "output_type": "stream",
          "text": [
            "[9 0 0 ... 3 0 5]\n",
            "2\n",
            "(60000,)\n"
          ],
          "name": "stdout"
        }
      ]
    },
    {
      "cell_type": "code",
      "metadata": {
        "id": "_Z7LWc0QBpw6",
        "colab_type": "code",
        "outputId": "36948160-adf4-4f66-baec-fb326b51bd6c",
        "colab": {
          "base_uri": "https://localhost:8080/",
          "height": 321
        }
      },
      "source": [
        "\n",
        "# pickany image index from 0 to 59999\n",
        "img_index= 5\n",
        "# y_train contains labels, ranging fro 0 to 9\n",
        "\n",
        "label_index=y_train[img_index]\n",
        "\n",
        "print(label_index)\n",
        "\n",
        "print(fashion_mnist_labels[label_index])\n",
        "plt.imshow(x_train[img_index])\n",
        "plt.show()\n",
        "\n",
        "print(\"y=\"+str(label_index)+\"--\"+fashion_mnist_labels[label_index])"
      ],
      "execution_count": 0,
      "outputs": [
        {
          "output_type": "stream",
          "text": [
            "2\n",
            "Pullover\n"
          ],
          "name": "stdout"
        },
        {
          "output_type": "display_data",
          "data": {
            "image/png": "[encoded data removed]",
            "text/plain": [
              "<Figure size 432x288 with 1 Axes>"
            ]
          },
          "metadata": {
            "tags": []
          }
        },
        {
          "output_type": "stream",
          "text": [
            "y=2--Pullover\n"
          ],
          "name": "stdout"
        }
      ]
    },
    {
      "cell_type": "code",
      "metadata": {
        "id": "_4OFPYjjCU-L",
        "colab_type": "code",
        "outputId": "8d04f486-ab8e-4d6b-890e-764fc50294d7",
        "colab": {
          "base_uri": "https://localhost:8080/",
          "height": 35
        }
      },
      "source": [
        "# print the labels for example 2 pullover\n",
        "print(\"y= \" + str(label_index) + \" \" +fashion_mnist_labels[label_index] )"
      ],
      "execution_count": 0,
      "outputs": [
        {
          "output_type": "stream",
          "text": [
            "y= 2 Pullover\n"
          ],
          "name": "stdout"
        }
      ]
    },
    {
      "cell_type": "code",
      "metadata": {
        "id": "AXZ5zFfkDRZp",
        "colab_type": "code",
        "outputId": "20db9f83-f0f6-40e5-a7a5-20bc9a7d1392",
        "colab": {
          "base_uri": "https://localhost:8080/",
          "height": 487
        }
      },
      "source": [
        "# # Show one of the images from the training dataset\n",
        "plt.figure(figsize=(10,8))\n",
        "plt.imshow(x_train[img_index])\n",
        "plt.show()"
      ],
      "execution_count": 0,
      "outputs": [
        {
          "output_type": "display_data",
          "data": {
            "image/png": "[encoded data removed]",
            "text/plain": [
              "<Figure size 720x576 with 1 Axes>"
            ]
          },
          "metadata": {
            "tags": []
          }
        }
      ]
    },
    {
      "cell_type": "code",
      "metadata": {
        "id": "KpsFQg0qEBPv",
        "colab_type": "code",
        "colab": {}
      },
      "source": [
        "# Data Normalization\n",
        "# Normalize the data dimensions so that they are of approximately the same scale "
      ],
      "execution_count": 0,
      "outputs": []
    },
    {
      "cell_type": "code",
      "metadata": {
        "id": "JQW5yrEvEpsP",
        "colab_type": "code",
        "colab": {}
      },
      "source": [
        "x_train1 = x_train / 255.0   # instead of having int values we will have float values_images\n",
        "x_test1 = x_test / 255.0"
      ],
      "execution_count": 0,
      "outputs": []
    },
    {
      "cell_type": "code",
      "metadata": {
        "id": "dokC6ZGCJBW-",
        "colab_type": "code",
        "colab": {}
      },
      "source": [
        "# second way of getting float values\n",
        "\n",
        "x_train=x_train.astype('float32')/255\n",
        "x_test =x_test.astype('float32')/255"
      ],
      "execution_count": 0,
      "outputs": []
    },
    {
      "cell_type": "code",
      "metadata": {
        "id": "hWdkVgwfKF7a",
        "colab_type": "code",
        "outputId": "7bcc2ca6-5be1-4cd5-f349-d825c4320c31",
        "colab": {
          "base_uri": "https://localhost:8080/",
          "height": 52
        }
      },
      "source": [
        "print(\"Number of train data - \" + str(len(x_train)))\n",
        "print(\"Number of test data - \" + str(len(x_test)))"
      ],
      "execution_count": 0,
      "outputs": [
        {
          "output_type": "stream",
          "text": [
            "Number of train data - 60000\n",
            "Number of test data - 10000\n"
          ],
          "name": "stdout"
        }
      ]
    },
    {
      "cell_type": "code",
      "metadata": {
        "id": "Jxig6DQoNurE",
        "colab_type": "code",
        "outputId": "cede1946-91d9-4819-90d1-e23f48c6d2a7",
        "colab": {
          "base_uri": "https://localhost:8080/",
          "height": 343
        }
      },
      "source": [
        "# visualize the first few images\n",
        "plt.figure(figsize=(12,6))\n",
        "\n",
        "for i in range(10):\n",
        "  plt.subplot(2,5,i+1)\n",
        "  plt.xticks([])\n",
        "  plt.yticks([])\n",
        "  plt.grid(False)\n",
        "  plt.imshow(x_train[i],cmap=\"gray\")\n",
        "  plt.xlabel(str(y_train[i])+\" -- \"+fashion_mnist_labels[y_train[i]])\n"
      ],
      "execution_count": 0,
      "outputs": [
        {
          "output_type": "display_data",
          "data": {
            "image/png": "[encoded data removed]",
            "text/plain": [
              "<Figure size 864x432 with 10 Axes>"
            ]
          },
          "metadata": {
            "tags": []
          }
        }
      ]
    },
    {
      "cell_type": "code",
      "metadata": {
        "id": "yr5mUUVLKl3G",
        "colab_type": "code",
        "outputId": "0fcad7b2-7064-43be-f9a8-63ed6a61269c",
        "colab": {
          "base_uri": "https://localhost:8080/",
          "height": 593
        }
      },
      "source": [
        "plt.figure(figsize=(10,10))\n",
        "\n",
        "for i in range(25):\n",
        "  plt.subplot(5,5,i+1)\n",
        "  plt.xticks([])\n",
        "  plt.yticks([])\n",
        "  plt.grid(False)\n",
        "  plt.imshow(x_train[i],cmap=plt.cm.binary)\n",
        "  plt.xlabel(fashion_mnist_labels[y_train[i]])\n",
        "  \n"
      ],
      "execution_count": 0,
      "outputs": [
        {
          "output_type": "display_data",
          "data": {
            "image/png": "[encoded data removed]",
            "text/plain": [
              "<Figure size 720x720 with 25 Axes>"
            ]
          },
          "metadata": {
            "tags": []
          }
        }
      ]
    },
    {
      "cell_type": "code",
      "metadata": {
        "id": "Q5p-wNiRKmCq",
        "colab_type": "code",
        "colab": {}
      },
      "source": [
        "\n",
        "# Split the data into train/validation/test data sets\n",
        "\n",
        "# training data : used for training the model\n",
        "# validation data : used for tuning and evaluating the model\n",
        "# test data : used to test the model after the model has gone through initial vetting by the validation set"
      ],
      "execution_count": 0,
      "outputs": []
    },
    {
      "cell_type": "code",
      "metadata": {
        "id": "AdwHr-zTuw0Q",
        "colab_type": "code",
        "outputId": "bccda728-bd0f-453b-a9c9-cd0d59ff4c70",
        "colab": {
          "base_uri": "https://localhost:8080/",
          "height": 35
        }
      },
      "source": [
        "x_train.shape"
      ],
      "execution_count": 0,
      "outputs": [
        {
          "output_type": "execute_result",
          "data": {
            "text/plain": [
              "(60000, 28, 28)"
            ]
          },
          "metadata": {
            "tags": []
          },
          "execution_count": 28
        }
      ]
    },
    {
      "cell_type": "code",
      "metadata": {
        "id": "LTzqShYYKmHK",
        "colab_type": "code",
        "colab": {}
      },
      "source": [
        "(x_train, x_valid) = x_train[5000:], x_train[:5000]\n",
        "(y_train, y_valid) = y_train[5000:], y_train[:5000]\n",
        "\n",
        "# from training data put 55000 for training and 5000 for validating\n",
        "# from the label data put 5000 for training and remaining for validating "
      ],
      "execution_count": 0,
      "outputs": []
    },
    {
      "cell_type": "code",
      "metadata": {
        "id": "i_tVuk83KmK5",
        "colab_type": "code",
        "outputId": "bad119e8-c01f-4ccc-ac75-1a607832589e",
        "colab": {
          "base_uri": "https://localhost:8080/",
          "height": 35
        }
      },
      "source": [
        "x_train.shape"
      ],
      "execution_count": 0,
      "outputs": [
        {
          "output_type": "execute_result",
          "data": {
            "text/plain": [
              "(55000, 28, 28)"
            ]
          },
          "metadata": {
            "tags": []
          },
          "execution_count": 30
        }
      ]
    },
    {
      "cell_type": "code",
      "metadata": {
        "id": "nyGRUkMIf0ty",
        "colab_type": "code",
        "outputId": "67d0cc36-f299-4545-db54-5a843b2f93f2",
        "colab": {
          "base_uri": "https://localhost:8080/",
          "height": 35
        }
      },
      "source": [
        "x_test.shape"
      ],
      "execution_count": 0,
      "outputs": [
        {
          "output_type": "execute_result",
          "data": {
            "text/plain": [
              "(10000, 28, 28)"
            ]
          },
          "metadata": {
            "tags": []
          },
          "execution_count": 31
        }
      ]
    },
    {
      "cell_type": "code",
      "metadata": {
        "id": "vxTIkL3fpcAJ",
        "colab_type": "code",
        "outputId": "00208c47-0ed1-48db-d1f0-a77e2064014e",
        "colab": {
          "base_uri": "https://localhost:8080/",
          "height": 35
        }
      },
      "source": [
        "x_valid.shape"
      ],
      "execution_count": 0,
      "outputs": [
        {
          "output_type": "execute_result",
          "data": {
            "text/plain": [
              "(5000, 28, 28)"
            ]
          },
          "metadata": {
            "tags": []
          },
          "execution_count": 32
        }
      ]
    },
    {
      "cell_type": "code",
      "metadata": {
        "id": "eazoxvjdpe4l",
        "colab_type": "code",
        "outputId": "6bbec426-2a1c-43b7-fe16-8c48e9b85a42",
        "colab": {
          "base_uri": "https://localhost:8080/",
          "height": 35
        }
      },
      "source": [
        "y_train.shape"
      ],
      "execution_count": 0,
      "outputs": [
        {
          "output_type": "execute_result",
          "data": {
            "text/plain": [
              "(55000,)"
            ]
          },
          "metadata": {
            "tags": []
          },
          "execution_count": 33
        }
      ]
    },
    {
      "cell_type": "code",
      "metadata": {
        "id": "AENi9f9du-mH",
        "colab_type": "code",
        "outputId": "cfebb24a-58c5-4046-c6f6-9aab2e6251ca",
        "colab": {
          "base_uri": "https://localhost:8080/",
          "height": 35
        }
      },
      "source": [
        "y_valid.shape"
      ],
      "execution_count": 0,
      "outputs": [
        {
          "output_type": "execute_result",
          "data": {
            "text/plain": [
              "(5000,)"
            ]
          },
          "metadata": {
            "tags": []
          },
          "execution_count": 34
        }
      ]
    },
    {
      "cell_type": "code",
      "metadata": {
        "id": "zQVcsQ3cvCVr",
        "colab_type": "code",
        "colab": {}
      },
      "source": [
        "#reshape input data input data from (28,28) to (28,28,1)\n",
        "w, h =28, 28"
      ],
      "execution_count": 0,
      "outputs": []
    },
    {
      "cell_type": "code",
      "metadata": {
        "id": "ktLfGQ1yyj_W",
        "colab_type": "code",
        "colab": {}
      },
      "source": [
        "x_train=x_train.reshape(x_train.shape[0],w,h,1)\n",
        "x_valid=x_valid.reshape(x_valid.shape[0],w,h,1)\n",
        "x_test=x_test.reshape(x_test.shape[0],w,h,1)"
      ],
      "execution_count": 0,
      "outputs": []
    },
    {
      "cell_type": "code",
      "metadata": {
        "id": "B0C5jwBdyvmf",
        "colab_type": "code",
        "colab": {}
      },
      "source": [
        "#one-hot encode the labels\n",
        "\n",
        "y_train=tf.keras.utils.to_categorical(y_train,10)\n",
        "y_valid=tf.keras.utils.to_categorical(y_valid,10)\n",
        "y_test=tf.keras.utils.to_categorical(y_test,10)\n",
        "\n"
      ],
      "execution_count": 0,
      "outputs": []
    },
    {
      "cell_type": "code",
      "metadata": {
        "id": "rHiqtsd22ryw",
        "colab_type": "code",
        "outputId": "aa449025-530a-4e0c-a965-7734be6aef3d",
        "colab": {
          "base_uri": "https://localhost:8080/",
          "height": 139
        }
      },
      "source": [
        "y_train"
      ],
      "execution_count": 0,
      "outputs": [
        {
          "output_type": "execute_result",
          "data": {
            "text/plain": [
              "array([[0., 0., 0., ..., 0., 0., 0.],\n",
              "       [1., 0., 0., ..., 0., 0., 0.],\n",
              "       [0., 0., 0., ..., 1., 0., 0.],\n",
              "       ...,\n",
              "       [0., 0., 0., ..., 0., 0., 0.],\n",
              "       [1., 0., 0., ..., 0., 0., 0.],\n",
              "       [0., 0., 0., ..., 0., 0., 0.]], dtype=float32)"
            ]
          },
          "metadata": {
            "tags": []
          },
          "execution_count": 38
        }
      ]
    },
    {
      "cell_type": "code",
      "metadata": {
        "id": "RCWJwaOt2vMx",
        "colab_type": "code",
        "outputId": "38a08bc8-c8c8-426b-cd15-fde06f39f3d9",
        "colab": {
          "base_uri": "https://localhost:8080/",
          "height": 35
        }
      },
      "source": [
        "y_train.shape"
      ],
      "execution_count": 0,
      "outputs": [
        {
          "output_type": "execute_result",
          "data": {
            "text/plain": [
              "(55000, 10)"
            ]
          },
          "metadata": {
            "tags": []
          },
          "execution_count": 39
        }
      ]
    },
    {
      "cell_type": "code",
      "metadata": {
        "id": "7RvQxUIu2yCa",
        "colab_type": "code",
        "outputId": "f5a9602a-b955-4646-ce7e-3d7ee3915433",
        "colab": {
          "base_uri": "https://localhost:8080/",
          "height": 35
        }
      },
      "source": [
        "#print training set shape\n",
        "print(\"x_train shape:\",x_train.shape, \"y_train.shape: \",y_train.shape )"
      ],
      "execution_count": 0,
      "outputs": [
        {
          "output_type": "stream",
          "text": [
            "x_train shape: (55000, 28, 28, 1) y_train.shape:  (55000, 10)\n"
          ],
          "name": "stdout"
        }
      ]
    },
    {
      "cell_type": "code",
      "metadata": {
        "id": "kxEkEh9w20RB",
        "colab_type": "code",
        "outputId": "e67f7dd6-87f9-44d7-c983-bc7c53957994",
        "colab": {
          "base_uri": "https://localhost:8080/",
          "height": 69
        }
      },
      "source": [
        "#print the number of training, validation, and test set\n",
        "\n",
        "print(x_train.shape[0],\": train set\")\n",
        "print(x_valid.shape[0],\": valid set\")\n",
        "print(x_test.shape[0], \": test set\")"
      ],
      "execution_count": 0,
      "outputs": [
        {
          "output_type": "stream",
          "text": [
            "55000 : train set\n",
            "5000 : valid set\n",
            "10000 : test set\n"
          ],
          "name": "stdout"
        }
      ]
    },
    {
      "cell_type": "code",
      "metadata": {
        "id": "emvmjx8p33OO",
        "colab_type": "code",
        "outputId": "d7642d24-999c-4e32-f27f-ec1a6c51704f",
        "colab": {
          "base_uri": "https://localhost:8080/",
          "height": 35
        }
      },
      "source": [
        "x_train[1].shape"
      ],
      "execution_count": 0,
      "outputs": [
        {
          "output_type": "execute_result",
          "data": {
            "text/plain": [
              "(28, 28, 1)"
            ]
          },
          "metadata": {
            "tags": []
          },
          "execution_count": 46
        }
      ]
    },
    {
      "cell_type": "markdown",
      "metadata": {
        "id": "TkbWqw5l--PO",
        "colab_type": "text"
      },
      "source": [
        "#Create the model architecture\n",
        "\n",
        "There are two APIs for defining a model in keras\n",
        " Sequential model API\n",
        " Functional model API\n",
        " In this notebook, we use sequential model . In defining the model,we use some of these API's\n",
        "\n",
        " Conv2D() - create a convolutional layer\n",
        " \n",
        " Pooling() -  create a pooling layer\n",
        " \n",
        " Dropout() -  apply drop out\n",
        "\n",
        "\n"
      ]
    },
    {
      "cell_type": "code",
      "metadata": {
        "id": "HbyKAm2S-_hd",
        "colab_type": "code",
        "outputId": "2f7e652d-24a9-4e4d-f928-f1ee849c788b",
        "colab": {
          "base_uri": "https://localhost:8080/",
          "height": 35
        }
      },
      "source": [
        "from keras.models import Sequential\n",
        "from keras.layers import Dense, Conv2D\n",
        "from keras.layers import MaxPooling2D, Dropout\n",
        "from keras.layers import Flatten\n"
      ],
      "execution_count": 0,
      "outputs": [
        {
          "output_type": "stream",
          "text": [
            "Using TensorFlow backend.\n"
          ],
          "name": "stderr"
        }
      ]
    },
    {
      "cell_type": "code",
      "metadata": {
        "id": "tyFrzKXD_TEc",
        "colab_type": "code",
        "colab": {}
      },
      "source": [
        "#create model\n",
        "#model1 = Sequential()\n",
        "\n",
        "# must define the input shape in the first layer of the neural network\n",
        "# add convolution layer, maxpooling, flatten\n",
        "\n",
        "\n",
        "\n",
        "model2 = Sequential()\n",
        "model2.add(Conv2D(filters=64,kernel_size=2,padding='same',activation='relu', input_shape=(28,28,1)))\n",
        "model2.add(MaxPooling2D(pool_size=2))\n",
        "model2.add(Flatten())\n",
        "\n",
        "\n",
        "model2.add(Dense(10, activation='softmax'))\n",
        "model2.compile(loss='categorical_crossentropy', optimizer='adam', metrics=['accuracy'])\n"
      ],
      "execution_count": 0,
      "outputs": []
    },
    {
      "cell_type": "code",
      "metadata": {
        "id": "p-w9W-YXFKXA",
        "colab_type": "code",
        "outputId": "91d50fa1-c9e5-48d9-d3cb-349ab60f0bf7",
        "colab": {
          "base_uri": "https://localhost:8080/",
          "height": 277
        }
      },
      "source": [
        "model2.summary()\n",
        "\n",
        "#model2.fit(x_train, y_train, epochs=10, validation_split=0.1)\n"
      ],
      "execution_count": 0,
      "outputs": [
        {
          "output_type": "stream",
          "text": [
            "_________________________________________________________________\n",
            "Layer (type)                 Output Shape              Param #   \n",
            "=================================================================\n",
            "conv2d_2 (Conv2D)            (None, 28, 28, 64)        320       \n",
            "_________________________________________________________________\n",
            "max_pooling2d_2 (MaxPooling2 (None, 14, 14, 64)        0         \n",
            "_________________________________________________________________\n",
            "flatten_2 (Flatten)          (None, 12544)             0         \n",
            "_________________________________________________________________\n",
            "dense_2 (Dense)              (None, 10)                125450    \n",
            "=================================================================\n",
            "Total params: 125,770\n",
            "Trainable params: 125,770\n",
            "Non-trainable params: 0\n",
            "_________________________________________________________________\n"
          ],
          "name": "stdout"
        }
      ]
    },
    {
      "cell_type": "code",
      "metadata": {
        "id": "dN-d2xFnEPAG",
        "colab_type": "code",
        "colab": {}
      },
      "source": [
        "'''\n",
        "\n",
        "model.add(Conv2D(filters=64, kernel_size=2, padding='same', activation='relu', input_shape=(28,28,1)))\n",
        "model.add(MaxPooling2D(pool_size=2))\n",
        "model.add(Dropout(0.3))\n",
        "\n",
        "\n",
        "model.add(Conv2D(filters=32,kernel_size=2,padding='same',activation='relu'))\n",
        "model.add(MaxPooling2D(pool_size=2))\n",
        "model.add(Dropout(0.3))\n",
        "\n",
        "model.add(Flatten())\n",
        "\n",
        "\n",
        "\n",
        "\n",
        "model.add(Flatten())\n",
        "model.add(Dense(1,activation='sigmoid'))\n",
        "model.summary()\n",
        "\n",
        "'''\n"
      ],
      "execution_count": 0,
      "outputs": []
    },
    {
      "cell_type": "code",
      "metadata": {
        "id": "yBjMy6rc2ChZ",
        "colab_type": "code",
        "colab": {}
      },
      "source": [
        "from keras.callbacks import ModelCheckpoint\n",
        "\n",
        "checkpointer2 = ModelCheckpoint(filepath='model.weights.best.hdf5', verbose=1, save_best_only=1)"
      ],
      "execution_count": 0,
      "outputs": []
    },
    {
      "cell_type": "code",
      "metadata": {
        "id": "7P5qvQHGFa3g",
        "colab_type": "code",
        "outputId": "6e9d9059-0c47-4d48-d009-33240846a95c",
        "colab": {
          "base_uri": "https://localhost:8080/",
          "height": 505
        }
      },
      "source": [
        "\n",
        "\n",
        "model2.fit(x_train, y_train, epochs=10, validation_split=0.1)\n",
        "\n",
        "#model2.fit(x_train, y_train, epochs=10, validation_split=0.1,validation_data=(x_valid,y_valid))\n"
      ],
      "execution_count": 0,
      "outputs": [
        {
          "output_type": "stream",
          "text": [
            "W0808 07:16:46.892466 140443559323520 deprecation.py:323] From /usr/local/lib/python3.6/dist-packages/tensorflow/python/ops/math_grad.py:1250: add_dispatch_support.<locals>.wrapper (from tensorflow.python.ops.array_ops) is deprecated and will be removed in a future version.\n",
            "Instructions for updating:\n",
            "Use tf.where in 2.0, which has the same broadcast rule as np.where\n",
            "W0808 07:16:46.948540 140443559323520 deprecation_wrapper.py:119] From /usr/local/lib/python3.6/dist-packages/keras/backend/tensorflow_backend.py:986: The name tf.assign_add is deprecated. Please use tf.compat.v1.assign_add instead.\n",
            "\n"
          ],
          "name": "stderr"
        },
        {
          "output_type": "stream",
          "text": [
            "Train on 49500 samples, validate on 5500 samples\n",
            "Epoch 1/10\n",
            "49500/49500 [==============================] - 37s 757us/step - loss: 0.4553 - acc: 0.8403 - val_loss: 0.3336 - val_acc: 0.8813\n",
            "Epoch 2/10\n",
            "49500/49500 [==============================] - 36s 737us/step - loss: 0.3235 - acc: 0.8857 - val_loss: 0.3128 - val_acc: 0.8893\n",
            "Epoch 3/10\n",
            "49500/49500 [==============================] - 37s 745us/step - loss: 0.2872 - acc: 0.8992 - val_loss: 0.2970 - val_acc: 0.8973\n",
            "Epoch 4/10\n",
            "49500/49500 [==============================] - 37s 746us/step - loss: 0.2646 - acc: 0.9065 - val_loss: 0.2748 - val_acc: 0.9025\n",
            "Epoch 5/10\n",
            "49500/49500 [==============================] - 36s 734us/step - loss: 0.2478 - acc: 0.9117 - val_loss: 0.2818 - val_acc: 0.8982\n",
            "Epoch 6/10\n",
            "49500/49500 [==============================] - 36s 730us/step - loss: 0.2330 - acc: 0.9160 - val_loss: 0.2737 - val_acc: 0.9036\n",
            "Epoch 7/10\n",
            "49500/49500 [==============================] - 36s 722us/step - loss: 0.2213 - acc: 0.9209 - val_loss: 0.2719 - val_acc: 0.9064\n",
            "Epoch 8/10\n",
            "49500/49500 [==============================] - 35s 716us/step - loss: 0.2087 - acc: 0.9264 - val_loss: 0.2764 - val_acc: 0.9040\n",
            "Epoch 9/10\n",
            "49500/49500 [==============================] - 36s 724us/step - loss: 0.1987 - acc: 0.9283 - val_loss: 0.2743 - val_acc: 0.9067\n",
            "Epoch 10/10\n",
            "49500/49500 [==============================] - 35s 716us/step - loss: 0.1900 - acc: 0.9331 - val_loss: 0.2794 - val_acc: 0.9045\n"
          ],
          "name": "stdout"
        },
        {
          "output_type": "execute_result",
          "data": {
            "text/plain": [
              "<keras.callbacks.History at 0x7fbb53a68cf8>"
            ]
          },
          "metadata": {
            "tags": []
          },
          "execution_count": 54
        }
      ]
    },
    {
      "cell_type": "code",
      "metadata": {
        "id": "IK99sH22L-4z",
        "colab_type": "code",
        "outputId": "1f1c9295-c91a-4bbc-88d4-03b36c566ad3",
        "colab": {
          "base_uri": "https://localhost:8080/",
          "height": 485
        }
      },
      "source": [
        "model3=Sequential()\n",
        "\n",
        "model3.add(Conv2D(filters=64,kernel_size=2,padding='same',activation='relu',input_shape=(28,28,1)))\n",
        "model3.add(MaxPooling2D(pool_size=2))\n",
        "model3.add(Dropout(0.3))\n",
        "\n",
        "\n",
        "model3.add(Conv2D(filters=32,kernel_size=2,padding='same',activation='relu'))\n",
        "model3.add(MaxPooling2D(pool_size=2))\n",
        "model3.add(Dropout(0.3))\n",
        "\n",
        "model3.add(Flatten())\n",
        "model3.add(Dense(256,activation= 'relu'))\n",
        "model3.add(Dropout(0.5))\n",
        "\n",
        "model3.add(Dense(10,activation='softmax'))\n",
        "\n",
        "model3.summary()\n",
        "\n"
      ],
      "execution_count": 0,
      "outputs": [
        {
          "output_type": "stream",
          "text": [
            "_________________________________________________________________\n",
            "Layer (type)                 Output Shape              Param #   \n",
            "=================================================================\n",
            "conv2d_5 (Conv2D)            (None, 28, 28, 64)        320       \n",
            "_________________________________________________________________\n",
            "max_pooling2d_5 (MaxPooling2 (None, 14, 14, 64)        0         \n",
            "_________________________________________________________________\n",
            "dropout_4 (Dropout)          (None, 14, 14, 64)        0         \n",
            "_________________________________________________________________\n",
            "conv2d_6 (Conv2D)            (None, 14, 14, 32)        8224      \n",
            "_________________________________________________________________\n",
            "max_pooling2d_6 (MaxPooling2 (None, 7, 7, 32)          0         \n",
            "_________________________________________________________________\n",
            "dropout_5 (Dropout)          (None, 7, 7, 32)          0         \n",
            "_________________________________________________________________\n",
            "flatten_4 (Flatten)          (None, 1568)              0         \n",
            "_________________________________________________________________\n",
            "dense_4 (Dense)              (None, 256)               401664    \n",
            "_________________________________________________________________\n",
            "dropout_6 (Dropout)          (None, 256)               0         \n",
            "_________________________________________________________________\n",
            "dense_5 (Dense)              (None, 10)                2570      \n",
            "=================================================================\n",
            "Total params: 412,778\n",
            "Trainable params: 412,778\n",
            "Non-trainable params: 0\n",
            "_________________________________________________________________\n"
          ],
          "name": "stdout"
        }
      ]
    },
    {
      "cell_type": "code",
      "metadata": {
        "id": "cgicU6pXiueE",
        "colab_type": "code",
        "colab": {}
      },
      "source": [
        "# compile the model\n",
        "\n",
        "# configure th learnig process with compile() api before training the model. It reveives three arguments\n",
        "\n",
        "# An optimizer\n",
        "# a loss function\n",
        "# a list of metrics\n"
      ],
      "execution_count": 0,
      "outputs": []
    },
    {
      "cell_type": "code",
      "metadata": {
        "id": "8NemBOitjk1n",
        "colab_type": "code",
        "colab": {}
      },
      "source": [
        "model3.compile(optimizer='adam', loss='categorical_crossentropy', metrics=['accuracy'])"
      ],
      "execution_count": 0,
      "outputs": []
    },
    {
      "cell_type": "code",
      "metadata": {
        "id": "SawDdIDNj3yo",
        "colab_type": "code",
        "colab": {}
      },
      "source": [
        "# Train the model\n",
        "\n",
        "# Now lets train the modelusing fit() API\n",
        "\n",
        "# We use the modelcheckpoint to save the model after each epoch.\n",
        "# Set 'save_best_only=True' to save only when the validation accuracy improves"
      ],
      "execution_count": 0,
      "outputs": []
    },
    {
      "cell_type": "code",
      "metadata": {
        "id": "DJDHFJ8dj4z3",
        "colab_type": "code",
        "colab": {}
      },
      "source": [
        "from keras.callbacks import ModelCheckpoint\n",
        "\n",
        "checkpointer = ModelCheckpoint(filepath='model.weights.best.hdf5', verbose=1, save_best_only=1)"
      ],
      "execution_count": 0,
      "outputs": []
    },
    {
      "cell_type": "code",
      "metadata": {
        "id": "SCEgXxjAj42J",
        "colab_type": "code",
        "outputId": "7b6756c7-297a-4dc1-f435-cb7671a54d28",
        "colab": {
          "base_uri": "https://localhost:8080/",
          "height": 745
        }
      },
      "source": [
        "model3.fit(x_train,y_train,epochs=10,batch_size=64,validation_data=(x_valid,y_valid),callbacks=[checkpointer])"
      ],
      "execution_count": 0,
      "outputs": [
        {
          "output_type": "stream",
          "text": [
            "Train on 55000 samples, validate on 5000 samples\n",
            "Epoch 1/10\n",
            "55000/55000 [==============================] - 80s 1ms/step - loss: 0.6162 - acc: 0.7720 - val_loss: 0.3767 - val_acc: 0.8654\n",
            "\n",
            "Epoch 00001: val_loss improved from inf to 0.37672, saving model to model.weights.best.hdf5\n",
            "Epoch 2/10\n",
            "55000/55000 [==============================] - 80s 1ms/step - loss: 0.4236 - acc: 0.8465 - val_loss: 0.3277 - val_acc: 0.8834\n",
            "\n",
            "Epoch 00002: val_loss improved from 0.37672 to 0.32766, saving model to model.weights.best.hdf5\n",
            "Epoch 3/10\n",
            "55000/55000 [==============================] - 79s 1ms/step - loss: 0.3749 - acc: 0.8639 - val_loss: 0.2866 - val_acc: 0.8978\n",
            "\n",
            "Epoch 00003: val_loss improved from 0.32766 to 0.28657, saving model to model.weights.best.hdf5\n",
            "Epoch 4/10\n",
            "55000/55000 [==============================] - 80s 1ms/step - loss: 0.3417 - acc: 0.8757 - val_loss: 0.2781 - val_acc: 0.8954\n",
            "\n",
            "Epoch 00004: val_loss improved from 0.28657 to 0.27809, saving model to model.weights.best.hdf5\n",
            "Epoch 5/10\n",
            "55000/55000 [==============================] - 80s 1ms/step - loss: 0.3235 - acc: 0.8809 - val_loss: 0.2567 - val_acc: 0.9064\n",
            "\n",
            "Epoch 00005: val_loss improved from 0.27809 to 0.25673, saving model to model.weights.best.hdf5\n",
            "Epoch 6/10\n",
            "55000/55000 [==============================] - 79s 1ms/step - loss: 0.3085 - acc: 0.8872 - val_loss: 0.2424 - val_acc: 0.9108\n",
            "\n",
            "Epoch 00006: val_loss improved from 0.25673 to 0.24240, saving model to model.weights.best.hdf5\n",
            "Epoch 7/10\n",
            "55000/55000 [==============================] - 80s 1ms/step - loss: 0.2930 - acc: 0.8920 - val_loss: 0.2475 - val_acc: 0.9114\n",
            "\n",
            "Epoch 00007: val_loss did not improve from 0.24240\n",
            "Epoch 8/10\n",
            "55000/55000 [==============================] - 79s 1ms/step - loss: 0.2819 - acc: 0.8957 - val_loss: 0.2436 - val_acc: 0.9086\n",
            "\n",
            "Epoch 00008: val_loss did not improve from 0.24240\n",
            "Epoch 9/10\n",
            "55000/55000 [==============================] - 79s 1ms/step - loss: 0.2745 - acc: 0.8992 - val_loss: 0.2289 - val_acc: 0.9170\n",
            "\n",
            "Epoch 00009: val_loss improved from 0.24240 to 0.22891, saving model to model.weights.best.hdf5\n",
            "Epoch 10/10\n",
            "55000/55000 [==============================] - 79s 1ms/step - loss: 0.2648 - acc: 0.9020 - val_loss: 0.2232 - val_acc: 0.9226\n",
            "\n",
            "Epoch 00010: val_loss improved from 0.22891 to 0.22317, saving model to model.weights.best.hdf5\n"
          ],
          "name": "stdout"
        },
        {
          "output_type": "execute_result",
          "data": {
            "text/plain": [
              "<keras.callbacks.History at 0x7fbb4e1ff2b0>"
            ]
          },
          "metadata": {
            "tags": []
          },
          "execution_count": 61
        }
      ]
    },
    {
      "cell_type": "code",
      "metadata": {
        "id": "RNm7nOyxj45f",
        "colab_type": "code",
        "colab": {}
      },
      "source": [
        "# Load the weights with the best validation accuracy\n",
        "model3.load_weights('model.weights.best.hdf5')"
      ],
      "execution_count": 0,
      "outputs": []
    },
    {
      "cell_type": "code",
      "metadata": {
        "id": "qp1u4Pb5j5Au",
        "colab_type": "code",
        "outputId": "b03d73ad-7a40-4c56-f85c-4f98232cf1e4",
        "colab": {
          "base_uri": "https://localhost:8080/",
          "height": 52
        }
      },
      "source": [
        "#Test Accuracy \n",
        "# evaluate the model on the test set\n",
        "\n",
        "score3=model3.evaluate(x_test,y_test,verbose=0)\n",
        "# Print test accuracy\n",
        "print('\\n', 'model3 Test accuracy:', score3[1])"
      ],
      "execution_count": 0,
      "outputs": [
        {
          "output_type": "stream",
          "text": [
            "\n",
            " model3 Test accuracy: 0.9096\n"
          ],
          "name": "stdout"
        }
      ]
    },
    {
      "cell_type": "code",
      "metadata": {
        "id": "I_RmFy2Qj5ED",
        "colab_type": "code",
        "outputId": "479d7ea2-18e5-4ebb-9a67-2d620f2769c1",
        "colab": {
          "base_uri": "https://localhost:8080/",
          "height": 52
        }
      },
      "source": [
        "#Test Accuracy \n",
        "# evaluate the model on the test set\n",
        "\n",
        "score2=model2.evaluate(x_test,y_test,verbose=0)\n",
        "# Print test accuracy\n",
        "print('\\n', ' model2 Test accuracy:', score2[1])"
      ],
      "execution_count": 0,
      "outputs": [
        {
          "output_type": "stream",
          "text": [
            "\n",
            "  model2 Test accuracy: 0.8938\n"
          ],
          "name": "stdout"
        }
      ]
    },
    {
      "cell_type": "code",
      "metadata": {
        "id": "Fj3rJABh1YHf",
        "colab_type": "code",
        "outputId": "7ad74e80-21f2-4e36-a162-a59cc60a3bdb",
        "colab": {
          "base_uri": "https://localhost:8080/",
          "height": 35
        }
      },
      "source": [
        "score"
      ],
      "execution_count": 0,
      "outputs": [
        {
          "output_type": "execute_result",
          "data": {
            "text/plain": [
              "[0.24423898253440857, 0.9096]"
            ]
          },
          "metadata": {
            "tags": []
          },
          "execution_count": 66
        }
      ]
    },
    {
      "cell_type": "code",
      "metadata": {
        "id": "FtTWhCfg_WTj",
        "colab_type": "code",
        "colab": {}
      },
      "source": [
        "# visualize te predictions\n",
        "\n",
        "y_hat = model3.predict(x_test)"
      ],
      "execution_count": 0,
      "outputs": []
    },
    {
      "cell_type": "code",
      "metadata": {
        "id": "AOZrmMZeCt4P",
        "colab_type": "code",
        "outputId": "6b02669c-d785-4eb1-fb20-7378e9187492",
        "colab": {
          "base_uri": "https://localhost:8080/",
          "height": 35
        }
      },
      "source": [
        "y_hat.shape"
      ],
      "execution_count": 0,
      "outputs": [
        {
          "output_type": "execute_result",
          "data": {
            "text/plain": [
              "(10000, 10)"
            ]
          },
          "metadata": {
            "tags": []
          },
          "execution_count": 84
        }
      ]
    },
    {
      "cell_type": "code",
      "metadata": {
        "id": "F9AQYK0PGhRy",
        "colab_type": "code",
        "outputId": "cb532489-b201-4307-8562-310f5145d72a",
        "colab": {
          "base_uri": "https://localhost:8080/",
          "height": 35
        }
      },
      "source": [
        "y_test.shape"
      ],
      "execution_count": 0,
      "outputs": [
        {
          "output_type": "execute_result",
          "data": {
            "text/plain": [
              "(10000, 10)"
            ]
          },
          "metadata": {
            "tags": []
          },
          "execution_count": 85
        }
      ]
    },
    {
      "cell_type": "code",
      "metadata": {
        "id": "piHym1pCGnv9",
        "colab_type": "code",
        "outputId": "73746465-886d-44ce-daae-0d073e6ab4f5",
        "colab": {
          "base_uri": "https://localhost:8080/",
          "height": 35
        }
      },
      "source": [
        "x_test.shape[0]"
      ],
      "execution_count": 0,
      "outputs": [
        {
          "output_type": "execute_result",
          "data": {
            "text/plain": [
              "10000"
            ]
          },
          "metadata": {
            "tags": []
          },
          "execution_count": 88
        }
      ]
    },
    {
      "cell_type": "code",
      "metadata": {
        "id": "pckAsLyWHwh9",
        "colab_type": "code",
        "outputId": "409b94c0-2ef6-482a-86d3-e057e63e5d7f",
        "colab": {
          "base_uri": "https://localhost:8080/",
          "height": 35
        }
      },
      "source": [
        "# random number list\n",
        "x_test_10= np.random.choice(x_test.shape[0],size=10,replace=False)\n",
        "x_test_10"
      ],
      "execution_count": 0,
      "outputs": [
        {
          "output_type": "execute_result",
          "data": {
            "text/plain": [
              "array([5685, 1537, 9794,  200,  687, 4076, 7089, 4411, 4155, 4435])"
            ]
          },
          "metadata": {
            "tags": []
          },
          "execution_count": 101
        }
      ]
    },
    {
      "cell_type": "code",
      "metadata": {
        "id": "WJVwiM2aSE7j",
        "colab_type": "code",
        "outputId": "5e00c4c6-4a33-43fa-a7b8-e4b381fd2326",
        "colab": {
          "base_uri": "https://localhost:8080/",
          "height": 537
        }
      },
      "source": [
        "y_hat[x_test_10]"
      ],
      "execution_count": 0,
      "outputs": [
        {
          "output_type": "execute_result",
          "data": {
            "text/plain": [
              "array([[1.2250728e-08, 8.4331417e-11, 4.3632001e-10, 1.2820947e-10,\n",
              "        3.9016326e-10, 5.7315934e-01, 4.7958876e-10, 9.8438599e-05,\n",
              "        1.2494139e-08, 4.2674214e-01],\n",
              "       [9.4774645e-05, 1.2189162e-05, 1.1913910e-05, 2.6981718e-06,\n",
              "        4.1534145e-06, 6.2563740e-02, 8.1413500e-06, 3.5981117e-03,\n",
              "        1.9126417e-05, 9.3368512e-01],\n",
              "       [6.4488255e-08, 9.9998939e-01, 4.8485639e-08, 6.3544934e-07,\n",
              "        9.7915208e-06, 4.1155288e-11, 4.8662969e-08, 1.3280731e-14,\n",
              "        1.4810226e-07, 1.4952918e-12],\n",
              "       [1.9907186e-07, 9.9999881e-01, 5.0075560e-10, 7.8831516e-07,\n",
              "        1.8509603e-07, 2.6442808e-12, 1.6072704e-08, 2.1351099e-13,\n",
              "        6.5163025e-10, 4.3909581e-13],\n",
              "       [3.3980069e-10, 7.9804940e-10, 4.8947145e-11, 2.8369556e-09,\n",
              "        7.2659409e-12, 1.6139218e-04, 3.7834800e-12, 1.0255380e-05,\n",
              "        2.6696406e-10, 9.9982834e-01],\n",
              "       [6.4689933e-09, 7.7817447e-11, 7.9083842e-09, 1.1344020e-12,\n",
              "        1.5084053e-10, 9.9860638e-01, 3.3729389e-10, 1.3797573e-03,\n",
              "        9.3395156e-06, 4.5597062e-06],\n",
              "       [3.5830095e-07, 9.9999106e-01, 9.8283266e-09, 7.7418363e-06,\n",
              "        5.7896455e-07, 1.9069722e-10, 1.7486275e-07, 1.8350288e-11,\n",
              "        6.4662643e-08, 4.0941459e-11],\n",
              "       [2.2140174e-04, 1.2455362e-07, 3.9525464e-01, 7.8647108e-06,\n",
              "        6.0315478e-01, 7.4801082e-10, 1.3598901e-03, 1.5687235e-10,\n",
              "        1.3409025e-06, 3.3902950e-10],\n",
              "       [2.4015701e-09, 3.6391392e-13, 6.1167300e-11, 7.9800787e-15,\n",
              "        1.6997660e-12, 9.9999809e-01, 2.8294075e-12, 2.2883674e-08,\n",
              "        2.6903904e-09, 1.9318786e-06],\n",
              "       [1.1637037e-03, 1.1282930e-05, 3.0027273e-05, 9.8802352e-01,\n",
              "        2.5642328e-03, 4.8038316e-08, 8.1944400e-03, 2.0475071e-08,\n",
              "        1.2780310e-05, 6.6326677e-09]], dtype=float32)"
            ]
          },
          "metadata": {
            "tags": []
          },
          "execution_count": 125
        }
      ]
    },
    {
      "cell_type": "code",
      "metadata": {
        "id": "M3u_q2l8IWQ3",
        "colab_type": "code",
        "outputId": "d50fa2de-16b2-4207-cef0-cf5e5d98bde6",
        "colab": {
          "base_uri": "https://localhost:8080/",
          "height": 443
        }
      },
      "source": [
        "\n",
        "# random number list\n",
        "x_test_10= np.random.choice(x_test.shape[0],size=10,replace=False)\n",
        "#print(x_test_10)\n",
        "\n",
        "plt.figure(figsize=(16,8))\n",
        "\n",
        "for i, index in enumerate(x_test_10,start=0):\n",
        "  #print(item)\n",
        "  plt.subplot(2,5,i+1,xticks=[],yticks=[])\n",
        "  plt.imshow(np.squeeze(x_test[index]),cmap='gray')  # np.squeeze is used to remove single diimensionality in an array\n",
        "  \n",
        "  #print(np.argmax(y_hat[index])) # argmax returns index of the \n",
        "  predict_index = np.argmax(y_hat[index]) \n",
        "  true_index = np.argmax(y_test[index])\n",
        "  \n",
        "  text_color =\"green\" if predict_index==true_index else \"red\"\n",
        "        \n",
        "   \n",
        "  # set the title for each image --- T : True index , Pr : Precited\n",
        "  plt.xlabel(str(fashion_mnist_labels[true_index] + \" (T) -- \"+fashion_mnist_labels[predict_index])+\" (Pr)\",color=text_color,fontsize=12)\n",
        "   "
      ],
      "execution_count": 174,
      "outputs": [
        {
          "output_type": "display_data",
          "data": {
            "image/png": "[encoded data removed]",
            "text/plain": [
              "<Figure size 1152x576 with 10 Axes>"
            ]
          },
          "metadata": {
            "tags": []
          }
        }
      ]
    },
    {
      "cell_type": "code",
      "metadata": {
        "id": "5xceubYepJQG",
        "colab_type": "code",
        "colab": {}
      },
      "source": [
        ""
      ],
      "execution_count": 0,
      "outputs": []
    }
  ]
}